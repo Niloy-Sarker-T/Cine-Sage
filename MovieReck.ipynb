{
 "cells": [
  {
   "cell_type": "code",
   "execution_count": 1,
   "id": "eaf9a8c3-e240-4edb-b06f-de54126f3257",
   "metadata": {},
   "outputs": [],
   "source": [
    "import numpy as np\n",
    "import pandas as pd \n",
    "import pickle "
   ]
  },
  {
   "cell_type": "code",
   "execution_count": 2,
   "id": "d3250e26-cdcc-477f-a14f-8ac38a2cb553",
   "metadata": {},
   "outputs": [],
   "source": [
    "movies=pd.read_csv('tmdb_5000_movies.csv')\n",
    "credits=pd.read_csv('tmdb_5000_credits.csv')\n"
   ]
  },
  {
   "cell_type": "code",
   "execution_count": 22,
   "id": "4adf8c07-1d91-4a6d-90a0-431ee19b9665",
   "metadata": {},
   "outputs": [],
   "source": [
    "credits1=pd.read_csv('tmdb_5000_credits.csv')"
   ]
  },
  {
   "cell_type": "code",
   "execution_count": 80,
   "id": "04b55fd6-d1aa-41de-b25d-3213d8111f8c",
   "metadata": {},
   "outputs": [
    {
     "data": {
      "text/plain": [
       "0       [{\"cast_id\": 242, \"character\": \"Jake Sully\", \"...\n",
       "1       [{\"cast_id\": 4, \"character\": \"Captain Jack Spa...\n",
       "2       [{\"cast_id\": 1, \"character\": \"James Bond\", \"cr...\n",
       "3       [{\"cast_id\": 2, \"character\": \"Bruce Wayne / Ba...\n",
       "4       [{\"cast_id\": 5, \"character\": \"John Carter\", \"c...\n",
       "                              ...                        \n",
       "4798    [{\"cast_id\": 1, \"character\": \"El Mariachi\", \"c...\n",
       "4799    [{\"cast_id\": 1, \"character\": \"Buzzy\", \"credit_...\n",
       "4800    [{\"cast_id\": 8, \"character\": \"Oliver O\\u2019To...\n",
       "4801    [{\"cast_id\": 3, \"character\": \"Sam\", \"credit_id...\n",
       "4802    [{\"cast_id\": 3, \"character\": \"Herself\", \"credi...\n",
       "Name: cast, Length: 4803, dtype: object"
      ]
     },
     "execution_count": 80,
     "metadata": {},
     "output_type": "execute_result"
    }
   ],
   "source": [
    "credits.cast"
   ]
  },
  {
   "cell_type": "code",
   "execution_count": 43,
   "id": "065ce702-6d3b-4962-ad01-03bfee8a3cf3",
   "metadata": {},
   "outputs": [
    {
     "data": {
      "text/plain": [
       "(4803, 20)"
      ]
     },
     "execution_count": 43,
     "metadata": {},
     "output_type": "execute_result"
    }
   ],
   "source": [
    "movies.shape\n"
   ]
  },
  {
   "cell_type": "code",
   "execution_count": 44,
   "id": "8aea35bf-0227-4603-9c10-b75d6bcc510e",
   "metadata": {},
   "outputs": [
    {
     "data": {
      "text/plain": [
       "(4803, 4)"
      ]
     },
     "execution_count": 44,
     "metadata": {},
     "output_type": "execute_result"
    }
   ],
   "source": [
    "credits.shape "
   ]
  },
  {
   "cell_type": "code",
   "execution_count": 6,
   "id": "1e38ba12-cd77-4f27-8e11-35b03b421c03",
   "metadata": {},
   "outputs": [
    {
     "name": "stdout",
     "output_type": "stream",
     "text": [
      "Index(['budget', 'genres', 'homepage', 'id', 'keywords', 'original_language',\n",
      "       'original_title', 'overview', 'popularity', 'production_companies',\n",
      "       'production_countries', 'release_date', 'revenue', 'runtime',\n",
      "       'spoken_languages', 'status', 'tagline', 'title', 'vote_average',\n",
      "       'vote_count'],\n",
      "      dtype='object')\n",
      "Index(['movie_id', 'title', 'cast', 'crew'], dtype='object')\n"
     ]
    }
   ],
   "source": [
    "print(movies.columns)\n",
    "print(credits.columns)"
   ]
  },
  {
   "cell_type": "code",
   "execution_count": 3,
   "id": "68a1e037-d90b-470d-b53d-8b61ffbb02ac",
   "metadata": {},
   "outputs": [],
   "source": [
    "movie=pd.merge(movies,credits,on='title')\n"
   ]
  },
  {
   "cell_type": "code",
   "execution_count": 4,
   "id": "f5c2104d-60e8-4def-9638-dffdf029a571",
   "metadata": {},
   "outputs": [
    {
     "name": "stdout",
     "output_type": "stream",
     "text": [
      "Index(['budget', 'genres', 'homepage', 'id', 'keywords', 'original_language',\n",
      "       'original_title', 'overview', 'popularity', 'production_companies',\n",
      "       'production_countries', 'release_date', 'revenue', 'runtime',\n",
      "       'spoken_languages', 'status', 'tagline', 'title', 'vote_average',\n",
      "       'vote_count', 'movie_id', 'cast', 'crew'],\n",
      "      dtype='object')\n"
     ]
    }
   ],
   "source": [
    "print(movie.columns)"
   ]
  },
  {
   "cell_type": "code",
   "execution_count": 5,
   "id": "1769a139-32a7-43f0-aafd-e7abdfc0fb20",
   "metadata": {},
   "outputs": [
    {
     "data": {
      "text/plain": [
       "(4809, 23)"
      ]
     },
     "execution_count": 5,
     "metadata": {},
     "output_type": "execute_result"
    }
   ],
   "source": [
    "movie.shape"
   ]
  },
  {
   "cell_type": "code",
   "execution_count": 6,
   "id": "604cb59e-e20c-408b-b136-607f18d1c365",
   "metadata": {},
   "outputs": [],
   "source": [
    "v=movie['vote_count']\n",
    "R=movie['vote_average']\n",
    "C=movie['vote_average'].mean()\n",
    "m=movie['vote_count'].quantile(0.60)"
   ]
  },
  {
   "cell_type": "code",
   "execution_count": 7,
   "id": "bda067f0-f62a-4ceb-b49e-324845999619",
   "metadata": {},
   "outputs": [],
   "source": [
    "movie['weighted_average']=((R*v)+ (C*m))/(v+m)"
   ]
  },
  {
   "cell_type": "code",
   "execution_count": 8,
   "id": "ed48db19-f099-4378-9ee7-9b441805e204",
   "metadata": {},
   "outputs": [],
   "source": [
    "movies = movie[['movie_id','title','genres','cast','crew','production_companies','weighted_average','popularity']]"
   ]
  },
  {
   "cell_type": "code",
   "execution_count": 9,
   "id": "cf98bcbb-c293-49ff-8408-982be453a7ad",
   "metadata": {},
   "outputs": [
    {
     "name": "stdout",
     "output_type": "stream",
     "text": [
      "Index(['movie_id', 'title', 'genres', 'cast', 'crew', 'production_companies',\n",
      "       'weighted_average', 'popularity'],\n",
      "      dtype='object')\n"
     ]
    }
   ],
   "source": [
    "\n",
    "print(movies.columns)\n"
   ]
  },
  {
   "cell_type": "code",
   "execution_count": 10,
   "id": "a71886a7-6b2d-47f2-8a55-ecfff72c4932",
   "metadata": {},
   "outputs": [
    {
     "data": {
      "text/html": [
       "<div>\n",
       "<style scoped>\n",
       "    .dataframe tbody tr th:only-of-type {\n",
       "        vertical-align: middle;\n",
       "    }\n",
       "\n",
       "    .dataframe tbody tr th {\n",
       "        vertical-align: top;\n",
       "    }\n",
       "\n",
       "    .dataframe thead th {\n",
       "        text-align: right;\n",
       "    }\n",
       "</style>\n",
       "<table border=\"1\" class=\"dataframe\">\n",
       "  <thead>\n",
       "    <tr style=\"text-align: right;\">\n",
       "      <th></th>\n",
       "      <th>title</th>\n",
       "      <th>weighted_average</th>\n",
       "      <th>popularity</th>\n",
       "    </tr>\n",
       "  </thead>\n",
       "  <tbody>\n",
       "    <tr>\n",
       "      <th>1887</th>\n",
       "      <td>The Shawshank Redemption</td>\n",
       "      <td>8.395905</td>\n",
       "      <td>136.747729</td>\n",
       "    </tr>\n",
       "    <tr>\n",
       "      <th>3342</th>\n",
       "      <td>The Godfather</td>\n",
       "      <td>8.263403</td>\n",
       "      <td>143.659698</td>\n",
       "    </tr>\n",
       "    <tr>\n",
       "      <th>662</th>\n",
       "      <td>Fight Club</td>\n",
       "      <td>8.216338</td>\n",
       "      <td>146.757391</td>\n",
       "    </tr>\n",
       "    <tr>\n",
       "      <th>3237</th>\n",
       "      <td>Pulp Fiction</td>\n",
       "      <td>8.206972</td>\n",
       "      <td>121.463076</td>\n",
       "    </tr>\n",
       "    <tr>\n",
       "      <th>65</th>\n",
       "      <td>The Dark Knight</td>\n",
       "      <td>8.136841</td>\n",
       "      <td>187.322927</td>\n",
       "    </tr>\n",
       "    <tr>\n",
       "      <th>1824</th>\n",
       "      <td>Schindler's List</td>\n",
       "      <td>8.125836</td>\n",
       "      <td>104.469351</td>\n",
       "    </tr>\n",
       "    <tr>\n",
       "      <th>3872</th>\n",
       "      <td>Whiplash</td>\n",
       "      <td>8.123012</td>\n",
       "      <td>192.528841</td>\n",
       "    </tr>\n",
       "    <tr>\n",
       "      <th>809</th>\n",
       "      <td>Forrest Gump</td>\n",
       "      <td>8.105824</td>\n",
       "      <td>138.133331</td>\n",
       "    </tr>\n",
       "    <tr>\n",
       "      <th>2300</th>\n",
       "      <td>Spirited Away</td>\n",
       "      <td>8.105610</td>\n",
       "      <td>118.968562</td>\n",
       "    </tr>\n",
       "    <tr>\n",
       "      <th>2737</th>\n",
       "      <td>The Godfather: Part II</td>\n",
       "      <td>8.079299</td>\n",
       "      <td>105.792936</td>\n",
       "    </tr>\n",
       "    <tr>\n",
       "      <th>1996</th>\n",
       "      <td>The Empire Strikes Back</td>\n",
       "      <td>8.074963</td>\n",
       "      <td>78.517830</td>\n",
       "    </tr>\n",
       "    <tr>\n",
       "      <th>96</th>\n",
       "      <td>Inception</td>\n",
       "      <td>8.047293</td>\n",
       "      <td>167.583710</td>\n",
       "    </tr>\n",
       "    <tr>\n",
       "      <th>95</th>\n",
       "      <td>Interstellar</td>\n",
       "      <td>8.033761</td>\n",
       "      <td>724.247784</td>\n",
       "    </tr>\n",
       "    <tr>\n",
       "      <th>690</th>\n",
       "      <td>The Green Mile</td>\n",
       "      <td>8.023152</td>\n",
       "      <td>103.698022</td>\n",
       "    </tr>\n",
       "    <tr>\n",
       "      <th>329</th>\n",
       "      <td>The Lord of the Rings: The Return of the King</td>\n",
       "      <td>8.011749</td>\n",
       "      <td>123.630332</td>\n",
       "    </tr>\n",
       "    <tr>\n",
       "      <th>2917</th>\n",
       "      <td>Star Wars</td>\n",
       "      <td>7.993582</td>\n",
       "      <td>126.393695</td>\n",
       "    </tr>\n",
       "    <tr>\n",
       "      <th>1559</th>\n",
       "      <td>Se7en</td>\n",
       "      <td>7.978683</td>\n",
       "      <td>79.579532</td>\n",
       "    </tr>\n",
       "    <tr>\n",
       "      <th>1853</th>\n",
       "      <td>GoodFellas</td>\n",
       "      <td>7.976650</td>\n",
       "      <td>63.654244</td>\n",
       "    </tr>\n",
       "    <tr>\n",
       "      <th>3062</th>\n",
       "      <td>American History X</td>\n",
       "      <td>7.969264</td>\n",
       "      <td>73.567232</td>\n",
       "    </tr>\n",
       "    <tr>\n",
       "      <th>3726</th>\n",
       "      <td>One Flew Over the Cuckoo's Nest</td>\n",
       "      <td>7.962461</td>\n",
       "      <td>127.525581</td>\n",
       "    </tr>\n",
       "  </tbody>\n",
       "</table>\n",
       "</div>"
      ],
      "text/plain": [
       "                                              title  weighted_average  \\\n",
       "1887                       The Shawshank Redemption          8.395905   \n",
       "3342                                  The Godfather          8.263403   \n",
       "662                                      Fight Club          8.216338   \n",
       "3237                                   Pulp Fiction          8.206972   \n",
       "65                                  The Dark Knight          8.136841   \n",
       "1824                               Schindler's List          8.125836   \n",
       "3872                                       Whiplash          8.123012   \n",
       "809                                    Forrest Gump          8.105824   \n",
       "2300                                  Spirited Away          8.105610   \n",
       "2737                         The Godfather: Part II          8.079299   \n",
       "1996                        The Empire Strikes Back          8.074963   \n",
       "96                                        Inception          8.047293   \n",
       "95                                     Interstellar          8.033761   \n",
       "690                                  The Green Mile          8.023152   \n",
       "329   The Lord of the Rings: The Return of the King          8.011749   \n",
       "2917                                      Star Wars          7.993582   \n",
       "1559                                          Se7en          7.978683   \n",
       "1853                                     GoodFellas          7.976650   \n",
       "3062                             American History X          7.969264   \n",
       "3726                One Flew Over the Cuckoo's Nest          7.962461   \n",
       "\n",
       "      popularity  \n",
       "1887  136.747729  \n",
       "3342  143.659698  \n",
       "662   146.757391  \n",
       "3237  121.463076  \n",
       "65    187.322927  \n",
       "1824  104.469351  \n",
       "3872  192.528841  \n",
       "809   138.133331  \n",
       "2300  118.968562  \n",
       "2737  105.792936  \n",
       "1996   78.517830  \n",
       "96    167.583710  \n",
       "95    724.247784  \n",
       "690   103.698022  \n",
       "329   123.630332  \n",
       "2917  126.393695  \n",
       "1559   79.579532  \n",
       "1853   63.654244  \n",
       "3062   73.567232  \n",
       "3726  127.525581  "
      ]
     },
     "execution_count": 10,
     "metadata": {},
     "output_type": "execute_result"
    }
   ],
   "source": [
    "movie_sorted_ranking=movies.sort_values('weighted_average',ascending=False)\n",
    "movie_sorted_ranking[['title',  'weighted_average', 'popularity']].head(20)"
   ]
  },
  {
   "cell_type": "code",
   "execution_count": 53,
   "id": "08ee3fc2-c741-45ce-866a-53569980a655",
   "metadata": {},
   "outputs": [
    {
     "name": "stdout",
     "output_type": "stream",
     "text": [
      "875.581305\n",
      "0.0\n",
      "movie_id                                                           211672\n",
      "title                                                             Minions\n",
      "genres                  [{\"id\": 10751, \"name\": \"Family\"}, {\"id\": 16, \"...\n",
      "cast                    [{\"cast_id\": 22, \"character\": \"Scarlet Overkil...\n",
      "crew                    [{\"credit_id\": \"5431b2b10e0a2656e20026c7\", \"de...\n",
      "production_companies    [{\"name\": \"Universal Pictures\", \"id\": 33}, {\"n...\n",
      "weighted_average                                                 6.376928\n",
      "popularity                                                     875.581305\n",
      "Name: 546, dtype: object\n"
     ]
    }
   ],
   "source": [
    "print(movies['popularity'].max())\n",
    "print(movies['popularity'].min())\n",
    "print(movies.loc[movies['popularity'].idxmax()])"
   ]
  },
  {
   "cell_type": "code",
   "execution_count": 16,
   "id": "5d604acc-c709-4917-97df-7ce5b3e5fa51",
   "metadata": {},
   "outputs": [
    {
     "data": {
      "image/png": "[encoded data removed]",
      "text/plain": [
       "<Figure size 1000x600 with 1 Axes>"
      ]
     },
     "metadata": {},
     "output_type": "display_data"
    },
    {
     "name": "stdout",
     "output_type": "stream",
     "text": [
      "Mean Popularity: 21.49\n",
      "Median Popularity: 12.92\n",
      "Standard Deviation of Popularity: 31.80\n",
      "25th Percentile (Q1): 4.67\n",
      "75th Percentile (Q3): 28.35\n",
      "Interquartile Range (IQR): 23.68\n"
     ]
    }
   ],
   "source": [
    "import pandas as pd\n",
    "import matplotlib.pyplot as plt\n",
    "import seaborn as sns\n",
    "\n",
    "# Load the data\n",
    "\n",
    "\n",
    "# Plot the distribution of the 'popularity' column\n",
    "plt.figure(figsize=(10, 6))\n",
    "sns.histplot(movies['popularity'], bins=30, kde=False)\n",
    "plt.title('Distribution of Movie Popularity')\n",
    "plt.xlabel('Popularity')\n",
    "plt.ylabel('Frequency')\n",
    "\n",
    "# Calculate descriptive statistics\n",
    "mean_popularity = movies['popularity'].mean()\n",
    "median_popularity = movies['popularity'].median()\n",
    "std_popularity = movies['popularity'].std()\n",
    "q1 = movies['popularity'].quantile(0.25)\n",
    "q3 = movies['popularity'].quantile(0.75)\n",
    "iqr = q3 - q1\n",
    "\n",
    "# Highlight the range where most movies fall (using IQR)\n",
    "plt.axvline(q1, color='r', linestyle='--', label=f'25th percentile (Q1): {q1:.2f}')\n",
    "plt.axvline(q3, color='g', linestyle='--', label=f'75th percentile (Q3): {q3:.2f}')\n",
    "plt.axvline(mean_popularity, color='b', linestyle='-', label=f'Mean: {mean_popularity:.2f}')\n",
    "plt.axvline(median_popularity, color='m', linestyle='-', label=f'Median: {median_popularity:.2f}')\n",
    "\n",
    "plt.legend()\n",
    "\n",
    "# Show the plot\n",
    "plt.show()\n",
    "\n",
    "# Print summary statistics\n",
    "print(f\"Mean Popularity: {mean_popularity:.2f}\")\n",
    "print(f\"Median Popularity: {median_popularity:.2f}\")\n",
    "print(f\"Standard Deviation of Popularity: {std_popularity:.2f}\")\n",
    "print(f\"25th Percentile (Q1): {q1:.2f}\")\n",
    "print(f\"75th Percentile (Q3): {q3:.2f}\")\n",
    "print(f\"Interquartile Range (IQR): {iqr:.2f}\")\n"
   ]
  },
  {
   "cell_type": "code",
   "execution_count": 54,
   "id": "84514508-537c-4d43-9be1-c016768315b1",
   "metadata": {},
   "outputs": [
    {
     "name": "stdout",
     "output_type": "stream",
     "text": [
      "Number of movies with popularity in this range: 11\n"
     ]
    }
   ],
   "source": [
    "#movie_in_range = movies[movies['popularity'] >0]\n",
    "#popular_movies_range = movies[(movies['popularity'] >= 50) & (movies['popularity'] <= 100)]\n",
    "movie_in_range=movies[(movies['popularity']>=200) & (movies['popularity']<=900)]\n",
    "# Count the number of movies with popularity greater than 250\n",
    "num_popular_movies = movie_in_range.shape[0]\n",
    "\n",
    "print(f\"Number of movies with popularity in this range: {num_popular_movies}\")"
   ]
  },
  {
   "cell_type": "markdown",
   "id": "c0ac85ae-f89d-4c37-a394-35cfd394295f",
   "metadata": {},
   "source": [
    "Popularity is useless here "
   ]
  },
  {
   "cell_type": "code",
   "execution_count": 12,
   "id": "cdd46320-89c3-4461-9cad-1f352014c0e7",
   "metadata": {},
   "outputs": [],
   "source": [
    "def calc_popularity(popularity):\n",
    "    if popularity>200:\n",
    "        return 1\n",
    "    elif 100<=popularity<=199:\n",
    "        return 0.8\n",
    "    else: \n",
    "        return popularity / 150 "
   ]
  },
  {
   "cell_type": "code",
   "execution_count": 14,
   "id": "a329a443-e0bf-4d3d-b262-096bbafba7d3",
   "metadata": {},
   "outputs": [],
   "source": [
    "movies.loc[:,'popularity1']=movies['popularity'].apply(calc_popularity)"
   ]
  },
  {
   "cell_type": "code",
   "execution_count": 15,
   "id": "be40ccf7-9b55-4057-8c32-74e95cb2b818",
   "metadata": {},
   "outputs": [],
   "source": [
    "movies=movies.drop(columns=['popularity'])\n"
   ]
  },
  {
   "cell_type": "code",
   "execution_count": 16,
   "id": "3a704520-92c0-4ca5-a62b-e96f9cc711ff",
   "metadata": {},
   "outputs": [
    {
     "data": {
      "text/plain": [
       "Index(['movie_id', 'title', 'genres', 'cast', 'crew', 'production_companies',\n",
       "       'weighted_average', 'popularity1'],\n",
       "      dtype='object')"
      ]
     },
     "execution_count": 16,
     "metadata": {},
     "output_type": "execute_result"
    }
   ],
   "source": [
    "movies.columns"
   ]
  },
  {
   "cell_type": "code",
   "execution_count": 17,
   "id": "13b82605-c36d-4a69-9ec9-b864293686c6",
   "metadata": {},
   "outputs": [
    {
     "data": {
      "text/html": [
       "<div>\n",
       "<style scoped>\n",
       "    .dataframe tbody tr th:only-of-type {\n",
       "        vertical-align: middle;\n",
       "    }\n",
       "\n",
       "    .dataframe tbody tr th {\n",
       "        vertical-align: top;\n",
       "    }\n",
       "\n",
       "    .dataframe thead th {\n",
       "        text-align: right;\n",
       "    }\n",
       "</style>\n",
       "<table border=\"1\" class=\"dataframe\">\n",
       "  <thead>\n",
       "    <tr style=\"text-align: right;\">\n",
       "      <th></th>\n",
       "      <th>title</th>\n",
       "      <th>weighted_average</th>\n",
       "      <th>popularity1</th>\n",
       "    </tr>\n",
       "  </thead>\n",
       "  <tbody>\n",
       "    <tr>\n",
       "      <th>28</th>\n",
       "      <td>Jurassic World</td>\n",
       "      <td>6.483273</td>\n",
       "      <td>1.0</td>\n",
       "    </tr>\n",
       "    <tr>\n",
       "      <th>199</th>\n",
       "      <td>Pirates of the Caribbean: The Curse of the Bla...</td>\n",
       "      <td>7.429050</td>\n",
       "      <td>1.0</td>\n",
       "    </tr>\n",
       "    <tr>\n",
       "      <th>95</th>\n",
       "      <td>Interstellar</td>\n",
       "      <td>8.033761</td>\n",
       "      <td>1.0</td>\n",
       "    </tr>\n",
       "    <tr>\n",
       "      <th>88</th>\n",
       "      <td>Big Hero 6</td>\n",
       "      <td>7.702681</td>\n",
       "      <td>1.0</td>\n",
       "    </tr>\n",
       "    <tr>\n",
       "      <th>546</th>\n",
       "      <td>Minions</td>\n",
       "      <td>6.376928</td>\n",
       "      <td>1.0</td>\n",
       "    </tr>\n",
       "    <tr>\n",
       "      <th>82</th>\n",
       "      <td>Dawn of the Planet of the Apes</td>\n",
       "      <td>7.206347</td>\n",
       "      <td>1.0</td>\n",
       "    </tr>\n",
       "    <tr>\n",
       "      <th>788</th>\n",
       "      <td>Deadpool</td>\n",
       "      <td>7.357344</td>\n",
       "      <td>1.0</td>\n",
       "    </tr>\n",
       "    <tr>\n",
       "      <th>108</th>\n",
       "      <td>Terminator Genisys</td>\n",
       "      <td>5.827104</td>\n",
       "      <td>1.0</td>\n",
       "    </tr>\n",
       "    <tr>\n",
       "      <th>200</th>\n",
       "      <td>The Hunger Games: Mockingjay - Part 1</td>\n",
       "      <td>6.568399</td>\n",
       "      <td>1.0</td>\n",
       "    </tr>\n",
       "    <tr>\n",
       "      <th>94</th>\n",
       "      <td>Guardians of the Galaxy</td>\n",
       "      <td>7.833726</td>\n",
       "      <td>1.0</td>\n",
       "    </tr>\n",
       "  </tbody>\n",
       "</table>\n",
       "</div>"
      ],
      "text/plain": [
       "                                                 title  weighted_average  \\\n",
       "28                                      Jurassic World          6.483273   \n",
       "199  Pirates of the Caribbean: The Curse of the Bla...          7.429050   \n",
       "95                                        Interstellar          8.033761   \n",
       "88                                          Big Hero 6          7.702681   \n",
       "546                                            Minions          6.376928   \n",
       "82                      Dawn of the Planet of the Apes          7.206347   \n",
       "788                                           Deadpool          7.357344   \n",
       "108                                 Terminator Genisys          5.827104   \n",
       "200              The Hunger Games: Mockingjay - Part 1          6.568399   \n",
       "94                             Guardians of the Galaxy          7.833726   \n",
       "\n",
       "     popularity1  \n",
       "28           1.0  \n",
       "199          1.0  \n",
       "95           1.0  \n",
       "88           1.0  \n",
       "546          1.0  \n",
       "82           1.0  \n",
       "788          1.0  \n",
       "108          1.0  \n",
       "200          1.0  \n",
       "94           1.0  "
      ]
     },
     "execution_count": 17,
     "metadata": {},
     "output_type": "execute_result"
    }
   ],
   "source": [
    "movie_sorted_ranking=movies.sort_values('popularity1',ascending=False)\n",
    "movie_sorted_ranking[['title',  'weighted_average', 'popularity1']].head(10)"
   ]
  },
  {
   "cell_type": "code",
   "execution_count": 18,
   "id": "0db1d5c7-6c8f-4e70-bd61-287b11903831",
   "metadata": {},
   "outputs": [],
   "source": [
    "import ast\n",
    "def convert(text):\n",
    "    L=[]\n",
    "    for i in ast.literal_eval(text):\n",
    "        L.append(i['name'])\n",
    "    return L"
   ]
  },
  {
   "cell_type": "code",
   "execution_count": 19,
   "id": "1937b6a4-14cf-4a28-a0e1-14a1ede3b8f4",
   "metadata": {},
   "outputs": [],
   "source": [
    "movies['genres'] = movies['genres'].apply(convert)"
   ]
  },
  {
   "cell_type": "code",
   "execution_count": 20,
   "id": "0d35217c-3345-4c43-9726-fa38f0f3aff8",
   "metadata": {},
   "outputs": [
    {
     "data": {
      "text/plain": [
       "0       [Action, Adventure, Fantasy, Science Fiction]\n",
       "1                        [Adventure, Fantasy, Action]\n",
       "2                          [Action, Adventure, Crime]\n",
       "3                    [Action, Crime, Drama, Thriller]\n",
       "4                [Action, Adventure, Science Fiction]\n",
       "                            ...                      \n",
       "4804                        [Action, Crime, Thriller]\n",
       "4805                                [Comedy, Romance]\n",
       "4806               [Comedy, Drama, Romance, TV Movie]\n",
       "4807                                               []\n",
       "4808                                    [Documentary]\n",
       "Name: genres, Length: 4809, dtype: object"
      ]
     },
     "execution_count": 20,
     "metadata": {},
     "output_type": "execute_result"
    }
   ],
   "source": [
    "movies.genres"
   ]
  },
  {
   "cell_type": "code",
   "execution_count": 21,
   "id": "f26a93ed-41f4-475c-ac82-f58b8dbcaf00",
   "metadata": {},
   "outputs": [],
   "source": [
    "def casting(text):\n",
    "    L = []\n",
    "    counter = 0\n",
    "    for i in ast.literal_eval(text):\n",
    "        if counter < 3:\n",
    "            L.append(i['name'])\n",
    "        counter+=1\n",
    "    return L \n",
    "\n",
    "\n",
    "\n"
   ]
  },
  {
   "cell_type": "code",
   "execution_count": 23,
   "id": "276d0fa0-8a26-478d-9fb7-ce8adc062be7",
   "metadata": {},
   "outputs": [],
   "source": [
    "movies['cast'] = credits1['cast'].apply(casting)\n"
   ]
  },
  {
   "cell_type": "code",
   "execution_count": 59,
   "id": "7f7db222-5234-403d-a87d-5036fb40eb6c",
   "metadata": {},
   "outputs": [
    {
     "data": {
      "text/plain": [
       "0       [Sam Worthington, Zoe Saldana, Sigourney Weaver]\n",
       "1          [Johnny Depp, Orlando Bloom, Keira Knightley]\n",
       "2           [Daniel Craig, Christoph Waltz, Léa Seydoux]\n",
       "3           [Christian Bale, Michael Caine, Gary Oldman]\n",
       "4         [Taylor Kitsch, Lynn Collins, Samantha Morton]\n",
       "                              ...                       \n",
       "4804          [Eric Mabius, Kristin Booth, Crystal Lowe]\n",
       "4805          [Eric Mabius, Kristin Booth, Crystal Lowe]\n",
       "4806          [Eric Mabius, Kristin Booth, Crystal Lowe]\n",
       "4807          [Eric Mabius, Kristin Booth, Crystal Lowe]\n",
       "4808          [Eric Mabius, Kristin Booth, Crystal Lowe]\n",
       "Name: cast, Length: 4809, dtype: object"
      ]
     },
     "execution_count": 59,
     "metadata": {},
     "output_type": "execute_result"
    }
   ],
   "source": [
    "movies.cast"
   ]
  },
  {
   "cell_type": "code",
   "execution_count": 58,
   "id": "c30255b0-41fc-421a-ba91-f27d1d573776",
   "metadata": {},
   "outputs": [
    {
     "data": {
      "text/plain": [
       "['Eric Mabius', 'Kristin Booth', 'Crystal Lowe']"
      ]
     },
     "execution_count": 58,
     "metadata": {},
     "output_type": "execute_result"
    }
   ],
   "source": [
    "\n",
    "movies.cast[4803]"
   ]
  },
  {
   "cell_type": "code",
   "execution_count": 57,
   "id": "219c905a-f1c0-4d2d-ad31-2ede418db46a",
   "metadata": {},
   "outputs": [],
   "source": [
    "new_cast = ['Eric Mabius', 'Kristin Booth', 'Crystal Lowe']\n",
    "for _ in range(6):\n",
    "    movies.at[4808, 'cast'] = new_cast\n",
    "#did it for 2 to 8 manually    "
   ]
  },
  {
   "cell_type": "code",
   "execution_count": null,
   "id": "f1ac07b7-5338-4afb-85f0-799fe167d435",
   "metadata": {},
   "outputs": [],
   "source": []
  },
  {
   "cell_type": "code",
   "execution_count": 27,
   "id": "17a9ebc2-5c87-496f-a71f-21a720ab4064",
   "metadata": {},
   "outputs": [],
   "source": [
    "def fetch_director(text):\n",
    "    L=[]\n",
    "    for i in ast.literal_eval(text):\n",
    "        if i['job']=='Director':\n",
    "            L.append(i['name'])\n",
    "    return L"
   ]
  },
  {
   "cell_type": "code",
   "execution_count": 28,
   "id": "216c8a83-d3bb-4919-af61-2771a4561c6e",
   "metadata": {},
   "outputs": [],
   "source": [
    "movies['crew']=movies['crew'].apply(fetch_director)"
   ]
  },
  {
   "cell_type": "code",
   "execution_count": 60,
   "id": "bfc244ef-d2f0-496d-8a7b-c2ebbc6613ee",
   "metadata": {},
   "outputs": [
    {
     "data": {
      "text/plain": [
       "0                                [James Cameron]\n",
       "1                               [Gore Verbinski]\n",
       "2                                   [Sam Mendes]\n",
       "3                            [Christopher Nolan]\n",
       "4                               [Andrew Stanton]\n",
       "                          ...                   \n",
       "4804                          [Robert Rodriguez]\n",
       "4805                              [Edward Burns]\n",
       "4806                               [Scott Smith]\n",
       "4807                               [Daniel Hsia]\n",
       "4808    [Brian Herzlinger, Jon Gunn, Brett Winn]\n",
       "Name: crew, Length: 4809, dtype: object"
      ]
     },
     "execution_count": 60,
     "metadata": {},
     "output_type": "execute_result"
    }
   ],
   "source": [
    "movies.crew\n"
   ]
  },
  {
   "cell_type": "code",
   "execution_count": 73,
   "id": "66476fda-8501-4fcf-ab0f-8dad6f3dc0fd",
   "metadata": {},
   "outputs": [
    {
     "data": {
      "text/plain": [
       "0        [Ingenious Film Partners]\n",
       "1           [Walt Disney Pictures]\n",
       "2              [Columbia Pictures]\n",
       "3             [Legendary Pictures]\n",
       "4           [Walt Disney Pictures]\n",
       "                   ...            \n",
       "4804           [Columbia Pictures]\n",
       "4805                        Xperia\n",
       "4806       [Front Street Pictures]\n",
       "4807                        Xperia\n",
       "4808    [rusty bear entertainment]\n",
       "Name: production_companies, Length: 4809, dtype: object"
      ]
     },
     "execution_count": 73,
     "metadata": {},
     "output_type": "execute_result"
    }
   ],
   "source": [
    "movies.production_companies\n"
   ]
  },
  {
   "cell_type": "code",
   "execution_count": 31,
   "id": "23243613-196c-4dab-aa79-94aa9dc8ec76",
   "metadata": {},
   "outputs": [],
   "source": [
    "def collapse(L):\n",
    "    L1=[]\n",
    "    for i in L:\n",
    "        L1.append(i.replace(\" \",\"\"))\n",
    "    return L1"
   ]
  },
  {
   "cell_type": "code",
   "execution_count": 32,
   "id": "46a72cb3-82dd-46d6-ac10-6891794029cd",
   "metadata": {},
   "outputs": [],
   "source": [
    "movies['cast'] = movies['cast'].apply(collapse)\n",
    "movies['crew'] = movies['crew'].apply(collapse)\n",
    "movies['genres'] = movies['genres'].apply(collapse)"
   ]
  },
  {
   "cell_type": "code",
   "execution_count": 31,
   "id": "c74b5185-3bd6-4865-91dd-c893f4b5fb77",
   "metadata": {},
   "outputs": [],
   "source": [
    "def companies(text):\n",
    "    L = []\n",
    "    counter = 0\n",
    "    for i in ast.literal_eval(text):\n",
    "        \n",
    "            L.append(i['name'])\n",
    "            break\n",
    "    return L \n",
    "\n",
    "\n",
    "\n"
   ]
  },
  {
   "cell_type": "code",
   "execution_count": 32,
   "id": "9ef66745-f659-4d86-8ec8-ac99ec6dd172",
   "metadata": {},
   "outputs": [],
   "source": [
    "movies['production_companies'] = movies['production_companies'].apply(companies)"
   ]
  },
  {
   "cell_type": "code",
   "execution_count": 64,
   "id": "62431529-a7d3-4960-bbce-de8a2a1f5a41",
   "metadata": {},
   "outputs": [
    {
     "data": {
      "text/plain": [
       "[]"
      ]
     },
     "execution_count": 64,
     "metadata": {},
     "output_type": "execute_result"
    }
   ],
   "source": [
    "movies.production_companies[4805]"
   ]
  },
  {
   "cell_type": "code",
   "execution_count": 72,
   "id": "69fb429f-0e48-4574-ba23-829ef0e93ed5",
   "metadata": {},
   "outputs": [
    {
     "name": "stdout",
     "output_type": "stream",
     "text": [
      "Index([], dtype='int64')\n"
     ]
    }
   ],
   "source": [
    "# Example: Filtering out rows where production_companies is an empty list\n",
    "non_empty_companies = movies[movies['production_companies'].apply(lambda x: len(x) == 0)].index\n",
    "print(non_empty_companies)\n"
   ]
  },
  {
   "cell_type": "code",
   "execution_count": 69,
   "id": "8976218f-92c3-436e-a436-486435efa9d8",
   "metadata": {},
   "outputs": [],
   "source": [
    "movies.loc[non_empty_companies, 'production_companies'] = [['Xperia']]"
   ]
  },
  {
   "cell_type": "code",
   "execution_count": 80,
   "id": "1afa0556-a15a-4926-bda9-4e8868b99e43",
   "metadata": {},
   "outputs": [],
   "source": [
    "weighted_average_list = movies['weighted_average'].tolist()\n",
    "popularity1_list = movies['popularity1'].tolist()\n"
   ]
  },
  {
   "cell_type": "code",
   "execution_count": 76,
   "id": "e9ae4504-076e-4490-ad28-3629ba3437bb",
   "metadata": {},
   "outputs": [],
   "source": [
    "movies['weighted_average'] = movies['weighted_average'].astype(str)\n",
    "movies['popularity1'] = movies['popularity1'].astype(str)"
   ]
  },
  {
   "cell_type": "code",
   "execution_count": 77,
   "id": "4e15f99b-adc3-434b-834b-e05c4666e944",
   "metadata": {},
   "outputs": [],
   "source": [
    "movies['weighted_average2'] = movies['weighted_average'].apply(lambda x: [x])\n",
    "movies['popularity2'] = movies['popularity1'].apply(lambda x: [x])"
   ]
  },
  {
   "cell_type": "code",
   "execution_count": 89,
   "id": "a03dea11-5c00-4bb9-9a52-20be841f1591",
   "metadata": {},
   "outputs": [],
   "source": [
    "movies['production_companies'] = movies['production_companies'].apply(lambda x: [x] if isinstance(x, str) else x)"
   ]
  },
  {
   "cell_type": "code",
   "execution_count": 90,
   "id": "63456a12-f348-4a64-ac4f-e8006f95b14f",
   "metadata": {},
   "outputs": [
    {
     "name": "stdout",
     "output_type": "stream",
     "text": [
      "0       True\n",
      "1       True\n",
      "2       True\n",
      "3       True\n",
      "4       True\n",
      "        ... \n",
      "4804    True\n",
      "4805    True\n",
      "4806    True\n",
      "4807    True\n",
      "4808    True\n",
      "Name: production_companies, Length: 4809, dtype: bool\n"
     ]
    }
   ],
   "source": [
    "is_list_type = movies['production_companies'].apply(lambda x: isinstance(x, list))\n",
    "\n",
    "# Display the result\n",
    "print(is_list_type)"
   ]
  },
  {
   "cell_type": "code",
   "execution_count": 91,
   "id": "d7728a42-a406-4a1e-bff1-dd4fb78e7f67",
   "metadata": {},
   "outputs": [],
   "source": [
    "movies['tags'] =  movies['genres'] +   movies['cast'] + movies['crew']+ movies['production_companies'] + movies['weighted_average2']+movies['popularity2']"
   ]
  },
  {
   "cell_type": "code",
   "execution_count": 96,
   "id": "95cdd43a-5bc3-4a66-bb65-5fc271a1b234",
   "metadata": {},
   "outputs": [
    {
     "data": {
      "text/plain": [
       "0       [Action, Adventure, Fantasy, Science Fiction, ...\n",
       "1       [Adventure, Fantasy, Action, Johnny Depp, Orla...\n",
       "2       [Action, Adventure, Crime, Daniel Craig, Chris...\n",
       "3       [Action, Crime, Drama, Thriller, Christian Bal...\n",
       "4       [Action, Adventure, Science Fiction, Taylor Ki...\n",
       "                              ...                        \n",
       "4804    [Action, Crime, Thriller, Eric Mabius, Kristin...\n",
       "4805    [Comedy, Romance, Eric Mabius, Kristin Booth, ...\n",
       "4806    [Comedy, Drama, Romance, TV Movie, Eric Mabius...\n",
       "4807    [Eric Mabius, Kristin Booth, Crystal Lowe, Dan...\n",
       "4808    [Documentary, Eric Mabius, Kristin Booth, Crys...\n",
       "Name: tags, Length: 4809, dtype: object"
      ]
     },
     "execution_count": 96,
     "metadata": {},
     "output_type": "execute_result"
    }
   ],
   "source": [
    "movies.tags"
   ]
  },
  {
   "cell_type": "code",
   "execution_count": 125,
   "id": "6cc76831-6385-4341-b119-7aa6e52c98be",
   "metadata": {},
   "outputs": [
    {
     "data": {
      "text/plain": [
       "0        [7.166258931591708]\n",
       "1        [6.838528415171296]\n",
       "2        [6.284093657917703]\n",
       "3        [7.541016398427354]\n",
       "4        [6.098887367571086]\n",
       "                ...         \n",
       "4804     [6.290907037806085]\n",
       "4805    [6.0899526466640355]\n",
       "4806     [6.106964449618749]\n",
       "4807     [6.085241409783866]\n",
       "4808     [6.101096702730985]\n",
       "Name: weighted_average2, Length: 4809, dtype: object"
      ]
     },
     "execution_count": 125,
     "metadata": {},
     "output_type": "execute_result"
    }
   ],
   "source": [
    "movies.weighted_average2"
   ]
  },
  {
   "cell_type": "code",
   "execution_count": 95,
   "id": "ac277abb-86ff-49a3-a453-2b8cdfa06ef2",
   "metadata": {},
   "outputs": [
    {
     "name": "stdout",
     "output_type": "stream",
     "text": [
      "Length of movie_id: 4809\n",
      "Length of title: 4809\n",
      "Length of genres: 4809\n",
      "Length of cast: 4809\n",
      "Length of crew: 4809\n",
      "Length of production_companies: 4809\n",
      "Length of weighted_average: 4809\n",
      "Length of popularity1: 4809\n",
      "Length of weighted_average2: 4809\n",
      "Length of popularity2: 4809\n",
      "Length of tags: 4809\n"
     ]
    }
   ],
   "source": [
    "for column in movies.columns:\n",
    "    print(f\"Length of {column}: {len(movies[column])}\")\n"
   ]
  },
  {
   "cell_type": "code",
   "execution_count": 97,
   "id": "44e837f8-1724-4173-a584-691b25ec659b",
   "metadata": {},
   "outputs": [],
   "source": [
    "movies=movies.drop(columns=['production_companies','genres','weighted_average2','cast','crew','popularity2'])"
   ]
  },
  {
   "cell_type": "code",
   "execution_count": 98,
   "id": "9d598a70-08da-4dc6-93ce-c7f3b7b7e370",
   "metadata": {},
   "outputs": [
    {
     "data": {
      "text/plain": [
       "0       [Action, Adventure, Fantasy, Science Fiction, ...\n",
       "1       [Adventure, Fantasy, Action, Johnny Depp, Orla...\n",
       "2       [Action, Adventure, Crime, Daniel Craig, Chris...\n",
       "3       [Action, Crime, Drama, Thriller, Christian Bal...\n",
       "4       [Action, Adventure, Science Fiction, Taylor Ki...\n",
       "                              ...                        \n",
       "4804    [Action, Crime, Thriller, Eric Mabius, Kristin...\n",
       "4805    [Comedy, Romance, Eric Mabius, Kristin Booth, ...\n",
       "4806    [Comedy, Drama, Romance, TV Movie, Eric Mabius...\n",
       "4807    [Eric Mabius, Kristin Booth, Crystal Lowe, Dan...\n",
       "4808    [Documentary, Eric Mabius, Kristin Booth, Crys...\n",
       "Name: tags, Length: 4809, dtype: object"
      ]
     },
     "execution_count": 98,
     "metadata": {},
     "output_type": "execute_result"
    }
   ],
   "source": [
    "movies.tags"
   ]
  },
  {
   "cell_type": "code",
   "execution_count": null,
   "id": "a6111f41-dfe5-47ce-aa5c-91ad119319c6",
   "metadata": {},
   "outputs": [],
   "source": [
    "new.tags"
   ]
  },
  {
   "cell_type": "code",
   "execution_count": 99,
   "id": "43ca3d7f-2dfa-4c2b-9bf0-2ea73a648115",
   "metadata": {},
   "outputs": [],
   "source": [
    "\n",
    "credits1['tagsy'] = movies['tags'].apply(lambda x: ' '.join(x) if isinstance(x, list) else x)\n"
   ]
  },
  {
   "cell_type": "code",
   "execution_count": 100,
   "id": "f0c1f69a-9bd3-4d0b-ab14-bec2d15abde9",
   "metadata": {},
   "outputs": [
    {
     "data": {
      "text/plain": [
       "0       Action Adventure Fantasy Science Fiction Sam W...\n",
       "1       Adventure Fantasy Action Johnny Depp Orlando B...\n",
       "2       Action Adventure Crime Daniel Craig Christoph ...\n",
       "3       Action Crime Drama Thriller Christian Bale Mic...\n",
       "4       Action Adventure Science Fiction Taylor Kitsch...\n",
       "                              ...                        \n",
       "4798    Crime Horror Mystery Thriller Carlos Gallardo ...\n",
       "4799    Drama Edward Burns Kerry Bishé Marsha Dietlein...\n",
       "4800    Thriller Horror Comedy Eric Mabius Kristin Boo...\n",
       "4801    Drama Daniel Henney Eliza Coupe Bill Paxton As...\n",
       "4802    Science Fiction Drama Thriller Eric Mabius Kri...\n",
       "Name: tagsy, Length: 4803, dtype: object"
      ]
     },
     "execution_count": 100,
     "metadata": {},
     "output_type": "execute_result"
    }
   ],
   "source": [
    "credits1.tagsy"
   ]
  },
  {
   "cell_type": "code",
   "execution_count": 101,
   "id": "cd9e87d7-1b71-40ec-b9b4-17527411dc93",
   "metadata": {},
   "outputs": [],
   "source": [
    "movies['tags']=credits1['tagsy']"
   ]
  },
  {
   "cell_type": "code",
   "execution_count": 108,
   "id": "98fa6886-a483-41c4-9773-dd16b55b5eca",
   "metadata": {},
   "outputs": [
    {
     "data": {
      "text/html": [
       "<div>\n",
       "<style scoped>\n",
       "    .dataframe tbody tr th:only-of-type {\n",
       "        vertical-align: middle;\n",
       "    }\n",
       "\n",
       "    .dataframe tbody tr th {\n",
       "        vertical-align: top;\n",
       "    }\n",
       "\n",
       "    .dataframe thead th {\n",
       "        text-align: right;\n",
       "    }\n",
       "</style>\n",
       "<table border=\"1\" class=\"dataframe\">\n",
       "  <thead>\n",
       "    <tr style=\"text-align: right;\">\n",
       "      <th></th>\n",
       "      <th>movie_id</th>\n",
       "      <th>title</th>\n",
       "      <th>tags</th>\n",
       "    </tr>\n",
       "  </thead>\n",
       "  <tbody>\n",
       "    <tr>\n",
       "      <th>0</th>\n",
       "      <td>19995</td>\n",
       "      <td>Avatar</td>\n",
       "      <td>Action Adventure Fantasy Science Fiction Sam W...</td>\n",
       "    </tr>\n",
       "    <tr>\n",
       "      <th>1</th>\n",
       "      <td>285</td>\n",
       "      <td>Pirates of the Caribbean: At World's End</td>\n",
       "      <td>Adventure Fantasy Action Johnny Depp Orlando B...</td>\n",
       "    </tr>\n",
       "    <tr>\n",
       "      <th>2</th>\n",
       "      <td>206647</td>\n",
       "      <td>Spectre</td>\n",
       "      <td>Action Adventure Crime Daniel Craig Christoph ...</td>\n",
       "    </tr>\n",
       "    <tr>\n",
       "      <th>3</th>\n",
       "      <td>49026</td>\n",
       "      <td>The Dark Knight Rises</td>\n",
       "      <td>Action Crime Drama Thriller Christian Bale Mic...</td>\n",
       "    </tr>\n",
       "    <tr>\n",
       "      <th>4</th>\n",
       "      <td>49529</td>\n",
       "      <td>John Carter</td>\n",
       "      <td>Action Adventure Science Fiction Taylor Kitsch...</td>\n",
       "    </tr>\n",
       "    <tr>\n",
       "      <th>5</th>\n",
       "      <td>559</td>\n",
       "      <td>Spider-Man 3</td>\n",
       "      <td>Fantasy Action Adventure Tobey Maguire Kirsten...</td>\n",
       "    </tr>\n",
       "    <tr>\n",
       "      <th>6</th>\n",
       "      <td>38757</td>\n",
       "      <td>Tangled</td>\n",
       "      <td>Animation Family Zachary Levi Mandy Moore Donn...</td>\n",
       "    </tr>\n",
       "    <tr>\n",
       "      <th>7</th>\n",
       "      <td>99861</td>\n",
       "      <td>Avengers: Age of Ultron</td>\n",
       "      <td>Action Adventure Science Fiction Robert Downey...</td>\n",
       "    </tr>\n",
       "    <tr>\n",
       "      <th>8</th>\n",
       "      <td>767</td>\n",
       "      <td>Harry Potter and the Half-Blood Prince</td>\n",
       "      <td>Adventure Fantasy Family Daniel Radcliffe Rupe...</td>\n",
       "    </tr>\n",
       "    <tr>\n",
       "      <th>9</th>\n",
       "      <td>209112</td>\n",
       "      <td>Batman v Superman: Dawn of Justice</td>\n",
       "      <td>Action Adventure Fantasy Ben Affleck Henry Cav...</td>\n",
       "    </tr>\n",
       "  </tbody>\n",
       "</table>\n",
       "</div>"
      ],
      "text/plain": [
       "   movie_id                                     title  \\\n",
       "0     19995                                    Avatar   \n",
       "1       285  Pirates of the Caribbean: At World's End   \n",
       "2    206647                                   Spectre   \n",
       "3     49026                     The Dark Knight Rises   \n",
       "4     49529                               John Carter   \n",
       "5       559                              Spider-Man 3   \n",
       "6     38757                                   Tangled   \n",
       "7     99861                   Avengers: Age of Ultron   \n",
       "8       767    Harry Potter and the Half-Blood Prince   \n",
       "9    209112        Batman v Superman: Dawn of Justice   \n",
       "\n",
       "                                                tags  \n",
       "0  Action Adventure Fantasy Science Fiction Sam W...  \n",
       "1  Adventure Fantasy Action Johnny Depp Orlando B...  \n",
       "2  Action Adventure Crime Daniel Craig Christoph ...  \n",
       "3  Action Crime Drama Thriller Christian Bale Mic...  \n",
       "4  Action Adventure Science Fiction Taylor Kitsch...  \n",
       "5  Fantasy Action Adventure Tobey Maguire Kirsten...  \n",
       "6  Animation Family Zachary Levi Mandy Moore Donn...  \n",
       "7  Action Adventure Science Fiction Robert Downey...  \n",
       "8  Adventure Fantasy Family Daniel Radcliffe Rupe...  \n",
       "9  Action Adventure Fantasy Ben Affleck Henry Cav...  "
      ]
     },
     "execution_count": 108,
     "metadata": {},
     "output_type": "execute_result"
    }
   ],
   "source": [
    "movies.head(10)"
   ]
  },
  {
   "cell_type": "code",
   "execution_count": 106,
   "id": "53ed0186-3550-45c8-a1cf-e2c3a2f8f978",
   "metadata": {},
   "outputs": [],
   "source": [
    "from sklearn.feature_extraction.text import CountVectorizer\n",
    "cv=CountVectorizer(max_features=5000,stop_words='english')"
   ]
  },
  {
   "cell_type": "code",
   "execution_count": 126,
   "id": "b28ab5d9-3591-4aa6-b3d5-d6d9b8b3d785",
   "metadata": {},
   "outputs": [],
   "source": [
    "vectors=cv.fit_transform(movies['tags']).toarray()"
   ]
  },
  {
   "cell_type": "code",
   "execution_count": 130,
   "id": "10adc000-4e7a-4ac2-b49b-00c6e6eb42f4",
   "metadata": {},
   "outputs": [
    {
     "data": {
      "text/plain": [
       "(4809, 5000)"
      ]
     },
     "execution_count": 130,
     "metadata": {},
     "output_type": "execute_result"
    }
   ],
   "source": [
    "vectors.shape"
   ]
  },
  {
   "cell_type": "code",
   "execution_count": 128,
   "id": "9a160cf7-1e00-4e3d-81d8-a52d7cf4613f",
   "metadata": {},
   "outputs": [
    {
     "data": {
      "text/plain": [
       "array([[0, 0, 0, ..., 0, 0, 0],\n",
       "       [0, 0, 0, ..., 0, 0, 0],\n",
       "       [0, 0, 0, ..., 0, 0, 0],\n",
       "       ...,\n",
       "       [0, 0, 0, ..., 0, 0, 0],\n",
       "       [0, 0, 0, ..., 0, 0, 0],\n",
       "       [0, 0, 0, ..., 0, 0, 0]], dtype=int64)"
      ]
     },
     "execution_count": 128,
     "metadata": {},
     "output_type": "execute_result"
    }
   ],
   "source": [
    "vectors"
   ]
  },
  {
   "cell_type": "code",
   "execution_count": 131,
   "id": "7a37b359-f658-47bb-a9df-3fa5a24c60d0",
   "metadata": {},
   "outputs": [],
   "source": [
    "import nltk"
   ]
  },
  {
   "cell_type": "code",
   "execution_count": 132,
   "id": "a6fb42c2-3261-46e4-919b-22a3bc5cde90",
   "metadata": {},
   "outputs": [],
   "source": [
    "from nltk.stem.porter import PorterStemmer\n",
    "ps=PorterStemmer() "
   ]
  },
  {
   "cell_type": "code",
   "execution_count": 140,
   "id": "73a08225-0f8a-48d8-8101-91bbc1653040",
   "metadata": {},
   "outputs": [],
   "source": [
    "def stem(text):\n",
    "    y=[]\n",
    "    for i in text.split():\n",
    "        y.append(ps.stem(i))\n",
    "    return \" \".join(y)"
   ]
  },
  {
   "cell_type": "code",
   "execution_count": 141,
   "id": "6242ff71-8381-49b9-9330-5b568c814b41",
   "metadata": {},
   "outputs": [
    {
     "data": {
      "text/plain": [
       "'lock lock'"
      ]
     },
     "execution_count": 141,
     "metadata": {},
     "output_type": "execute_result"
    }
   ],
   "source": [
    "stem('locked lock')"
   ]
  },
  {
   "cell_type": "code",
   "execution_count": 142,
   "id": "c5215f89-41fe-4407-970c-083155a85794",
   "metadata": {},
   "outputs": [
    {
     "data": {
      "text/plain": [
       "0       action adventur fantasi scienc fiction sam wor...\n",
       "1       adventur fantasi action johnni depp orlando bl...\n",
       "2       action adventur crime daniel craig christoph w...\n",
       "3       action crime drama thriller christian bale mic...\n",
       "4       action adventur scienc fiction taylor kitsch l...\n",
       "                              ...                        \n",
       "4804                                                     \n",
       "4805                                                     \n",
       "4806                                                     \n",
       "4807                                                     \n",
       "4808                                                     \n",
       "Name: tags, Length: 4809, dtype: object"
      ]
     },
     "execution_count": 142,
     "metadata": {},
     "output_type": "execute_result"
    }
   ],
   "source": [
    "movies['tags'].apply(stem)"
   ]
  },
  {
   "cell_type": "code",
   "execution_count": 148,
   "id": "3edd859e-12a1-4d93-849c-85fcde2c8a5e",
   "metadata": {},
   "outputs": [
    {
     "data": {
      "text/plain": [
       "''"
      ]
     },
     "execution_count": 148,
     "metadata": {},
     "output_type": "execute_result"
    }
   ],
   "source": [
    "movies.tags[4803]"
   ]
  },
  {
   "cell_type": "code",
   "execution_count": null,
   "id": "8db3d5b6-fb83-4189-a86f-5ae8d82bbaa9",
   "metadata": {},
   "outputs": [],
   "source": []
  },
  {
   "cell_type": "code",
   "execution_count": 151,
   "id": "27c86818-f208-4c79-bbc4-0e2be023e898",
   "metadata": {},
   "outputs": [
    {
     "data": {
      "text/plain": [
       "'Adventure Fantasy Action Romance Jake Gyllenhaal Gemma Arterton Ben Kingsley Mike Newell Walt Disney Pictures 6.185171591865594 0.4144658733333333'"
      ]
     },
     "execution_count": 151,
     "metadata": {},
     "output_type": "execute_result"
    }
   ],
   "source": [
    "movies['tags'][50]\n"
   ]
  },
  {
   "cell_type": "code",
   "execution_count": 152,
   "id": "673f0b1a-2697-4c7f-83b1-c53fa085bfa6",
   "metadata": {},
   "outputs": [],
   "source": [
    "vectors=cv.fit_transform(movies['tags']).toarray()\n"
   ]
  },
  {
   "cell_type": "code",
   "execution_count": null,
   "id": "a2bb4a1b-0ea9-44e5-a998-d99e4e2b9ca2",
   "metadata": {},
   "outputs": [],
   "source": []
  },
  {
   "cell_type": "code",
   "execution_count": 153,
   "id": "d00c1523-a374-465c-951e-15a8a8f0b088",
   "metadata": {},
   "outputs": [
    {
     "data": {
      "text/plain": [
       "array([[1.        , 0.20044593, 0.21650635, ..., 0.        , 0.        ,\n",
       "        0.        ],\n",
       "       [0.20044593, 1.        , 0.23145502, ..., 0.        , 0.        ,\n",
       "        0.        ],\n",
       "       [0.21650635, 0.23145502, 1.        , ..., 0.        , 0.        ,\n",
       "        0.        ],\n",
       "       ...,\n",
       "       [0.        , 0.        , 0.        , ..., 0.        , 0.        ,\n",
       "        0.        ],\n",
       "       [0.        , 0.        , 0.        , ..., 0.        , 0.        ,\n",
       "        0.        ],\n",
       "       [0.        , 0.        , 0.        , ..., 0.        , 0.        ,\n",
       "        0.        ]])"
      ]
     },
     "execution_count": 153,
     "metadata": {},
     "output_type": "execute_result"
    }
   ],
   "source": [
    "from sklearn.metrics.pairwise import cosine_similarity\n",
    "similarity = cosine_similarity(vectors)\n",
    "similarity"
   ]
  },
  {
   "cell_type": "code",
   "execution_count": 157,
   "id": "f8b21aa1-26fd-4d40-83b1-19b2374f47b7",
   "metadata": {},
   "outputs": [],
   "source": [
    "def recommend(movie):\n",
    "    index = movies[movies['title'] == movie].index[0]\n",
    "    distances = sorted(list(enumerate(similarity[index])),reverse=True,key = lambda x: x[1])\n",
    "    for i in distances[1:6]:\n",
    "        print(movies.iloc[i[0]].title)"
   ]
  },
  {
   "cell_type": "code",
   "execution_count": 162,
   "id": "851e8796-a16d-46f7-a8f6-e8022511b6a7",
   "metadata": {},
   "outputs": [
    {
     "name": "stdout",
     "output_type": "stream",
     "text": [
      "Batman Begins\n",
      "The Dark Knight Rises\n",
      "The Way of the Gun\n",
      "The Glimmer Man\n",
      "London Has Fallen\n"
     ]
    }
   ],
   "source": [
    "recommend('The Dark Knight')"
   ]
  },
  {
   "cell_type": "code",
   "execution_count": null,
   "id": "f5541bb6-2f57-426c-8f96-606aa8d73229",
   "metadata": {},
   "outputs": [],
   "source": []
  },
  {
   "cell_type": "code",
   "execution_count": 159,
   "id": "192798ec-7c4c-42db-bd14-247849e3721d",
   "metadata": {},
   "outputs": [],
   "source": [
    "pickle.dump(movies,open('movie_list.pkl','wb'))\n",
    "pickle.dump(similarity,open('similarity.pkl','wb'))"
   ]
  },
  {
   "cell_type": "code",
   "execution_count": 164,
   "id": "610d66e3-eac8-487b-8d26-9889cb3cd0e6",
   "metadata": {},
   "outputs": [],
   "source": [
    "pickle.dump(movies.to_dict(),open('movie_dict.pkl','wb'))"
   ]
  },
  {
   "cell_type": "code",
   "execution_count": null,
   "id": "0d69efe6-9913-42e7-a810-fd679db37f6d",
   "metadata": {},
   "outputs": [],
   "source": []
  },
  {
   "cell_type": "code",
   "execution_count": null,
   "id": "c8c2f520-7a10-40cf-ab9a-6c4ab8c2db8a",
   "metadata": {},
   "outputs": [],
   "source": []
  },
  {
   "cell_type": "code",
   "execution_count": null,
   "id": "e09ff061-30fb-4561-8150-5ad8a48fc880",
   "metadata": {},
   "outputs": [],
   "source": []
  }
 ],
 "metadata": {
  "kernelspec": {
   "display_name": "Python 3 (ipykernel)",
   "language": "python",
   "name": "python3"
  },
  "language_info": {
   "codemirror_mode": {
    "name": "ipython",
    "version": 3
   },
   "file_extension": ".py",
   "mimetype": "text/x-python",
   "name": "python",
   "nbconvert_exporter": "python",
   "pygments_lexer": "ipython3",
   "version": "3.11.5"
  }
 },
 "nbformat": 4,
 "nbformat_minor": 5
}
